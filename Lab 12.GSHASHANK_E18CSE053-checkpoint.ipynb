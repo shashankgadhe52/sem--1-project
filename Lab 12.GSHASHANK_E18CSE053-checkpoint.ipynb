{
 "cells": [
  {
   "cell_type": "markdown",
   "metadata": {},
   "source": [
    "# Name:G.SHASHANK\n",
    "# Enrollment ID:E18CSE020"
   ]
  },
  {
   "cell_type": "markdown",
   "metadata": {},
   "source": [
    "## All code should be done using Functions and parameters should be user defined!! \n",
    "## Input cases for program at least two."
   ]
  },
  {
   "cell_type": "markdown",
   "metadata": {},
   "source": [
    "## Function with arguments\n",
    "### Write a program in Python to convert time into minutes using function. "
   ]
  },
  {
   "cell_type": "code",
   "execution_count": 20,
   "metadata": {},
   "outputs": [
    {
     "data": {
      "text/plain": [
       "170"
      ]
     },
     "execution_count": 20,
     "metadata": {},
     "output_type": "execute_result"
    }
   ],
   "source": [
    "\n",
    "def convert(hrs, minute):\n",
    "    min=hrs*60\n",
    "    return min+minute\n",
    "\n",
    "#function calling\n",
    "convert(2,50)\n"
   ]
  },
  {
   "cell_type": "markdown",
   "metadata": {},
   "source": [
    "### Write a prgram to calculate simple interest. If customer is a senior citizen, he is offered 12 percent rate of interest. For all other customers, rate of interest is 10 percent. Use a function which accepts principle amount, time in years and yes or no for senior citizen (Boolean)."
   ]
  },
  {
   "cell_type": "code",
   "execution_count": 59,
   "metadata": {},
   "outputs": [
    {
     "name": "stdout",
     "output_type": "stream",
     "text": [
      "are you senior citizenyes\n"
     ]
    },
    {
     "data": {
      "text/plain": [
       "1240.0"
      ]
     },
     "execution_count": 59,
     "metadata": {},
     "output_type": "execute_result"
    }
   ],
   "source": [
    "def interest(principle, year):\n",
    "    s=input(\"are you senior citizen\")\n",
    "    if(s==\"yes\"):\n",
    "        a= principle*(1 + (12/100)*year)\n",
    "        return a\n",
    "    else:\n",
    "        a= principle*(1 + (10/100)*year)\n",
    "        return a\n",
    "interest(1000,2)"
   ]
  },
  {
   "cell_type": "markdown",
   "metadata": {},
   "source": [
    "# Function with no argument \n",
    "### Write a program in Python to print the current date and time using function showtime(). \n",
    "## Use import datetime and datetime.datetime.now() to print the current date and time. "
   ]
  },
  {
   "cell_type": "code",
   "execution_count": 115,
   "metadata": {},
   "outputs": [
    {
     "name": "stdout",
     "output_type": "stream",
     "text": [
      "2018-09-12 15:38:52.555353\n"
     ]
    }
   ],
   "source": [
    "def showtime():\n",
    "    #write your code here\n",
    "    import datetime\n",
    "    print (datetime.datetime.now())\n",
    "showtime()"
   ]
  },
  {
   "cell_type": "markdown",
   "metadata": {},
   "source": [
    "## Default arguments"
   ]
  },
  {
   "cell_type": "markdown",
   "metadata": {},
   "source": [
    "### Write a program using a function that greets a person using default message Welcome! followed by name of the person. Call this with a different message also."
   ]
  },
  {
   "cell_type": "code",
   "execution_count": 4,
   "metadata": {},
   "outputs": [
    {
     "name": "stdout",
     "output_type": "stream",
     "text": [
      "Welcome! ravi\n",
      "Welcome! ram\n"
     ]
    }
   ],
   "source": [
    "def greet(name=\"ram\", msg='Welcome!'):\n",
    "    print(msg, name)\n",
    "    #write your code here\n",
    "greet(\"ravi\")\n",
    "greet()\n",
    " "
   ]
  },
  {
   "cell_type": "markdown",
   "metadata": {},
   "source": [
    "### Write a program to calculate the volume of a cuboid (length\\*width*height) using default arguments in a function. Length parameter is compulsory to be passed from user."
   ]
  },
  {
   "cell_type": "code",
   "execution_count": 82,
   "metadata": {},
   "outputs": [
    {
     "name": "stdout",
     "output_type": "stream",
     "text": [
      "volume of cuboid: 12\n",
      "volume of cuboid: 18\n",
      "volume of cuboid: 24\n"
     ]
    }
   ],
   "source": [
    "def volume(length, width=2, height=3):\n",
    "    #write your code here\n",
    "    \n",
    "    print(\"volume of cuboid:\",length*width*height)\n",
    "#Function Calling\n",
    "volume(2)\n",
    "volume(2,3)\n",
    "volume(2,3,4)"
   ]
  },
  {
   "cell_type": "markdown",
   "metadata": {},
   "source": [
    "# Variable Length arguments\n",
    "### Write a program that uses variable-length arguments to multiply the values passed to the function.\n",
    "### For example, calling mul(2,3,1) will print 6. Calling mul(1,4,2,5) will return 40. "
   ]
  },
  {
   "cell_type": "code",
   "execution_count": 93,
   "metadata": {},
   "outputs": [
    {
     "data": {
      "text/plain": [
       "12"
      ]
     },
     "execution_count": 93,
     "metadata": {},
     "output_type": "execute_result"
    }
   ],
   "source": [
    "def mul(*args):\n",
    "    #write your code here\n",
    "    p=1\n",
    "    for i in args:\n",
    "        p*=i\n",
    "    return p\n",
    "mul(2,6,1)"
   ]
  },
  {
   "cell_type": "markdown",
   "metadata": {},
   "source": [
    "### Write a program in Python to find the roots of a quadratic equation ax^2+bx+c=0 using a function which takes the coefficients a,b,c as arguments."
   ]
  },
  {
   "cell_type": "code",
   "execution_count": 95,
   "metadata": {},
   "outputs": [
    {
     "name": "stdout",
     "output_type": "stream",
     "text": [
      "the roots of equation -2.0 -3.0\n",
      "the roots of equation (-0.9999999999999999+2j) (-1.0000000000000002-2j)\n"
     ]
    }
   ],
   "source": [
    "def roots(a,b,c):\n",
    "    #write your code here\n",
    "    import math\n",
    "    s=(b**2)-(4*a*c)\n",
    "    d=s**(1/2)\n",
    "    r1= (-b+d)/(2*a)\n",
    "    r2=(-b-d)/(2*a)\n",
    "    print(\"the roots of equation\",r1,r2)\n",
    "#Function calling\n",
    "roots(1,5,6)\n",
    "roots(1,2,5)"
   ]
  },
  {
   "cell_type": "markdown",
   "metadata": {},
   "source": [
    "# Return multiple arguments\n",
    "### Write a program in Python to return square and square root of the number passed as argument from a function."
   ]
  },
  {
   "cell_type": "code",
   "execution_count": 97,
   "metadata": {},
   "outputs": [
    {
     "name": "stdout",
     "output_type": "stream",
     "text": [
      "square of number 4 is 16\n",
      "square root of number 4 is 2.0\n"
     ]
    }
   ],
   "source": [
    "def compute(num):\n",
    "    #write your code here\n",
    "    print(\"square of number\",num,'is',num**2)\n",
    "    print(\"square root of number\",num,\"is\",num**(1/2))\n",
    "compute(4)"
   ]
  },
  {
   "cell_type": "markdown",
   "metadata": {},
   "source": [
    "# Lambda Functions\n",
    "### write a program in Python to calculate the cube of a number using the lambda function."
   ]
  },
  {
   "cell_type": "code",
   "execution_count": 117,
   "metadata": {},
   "outputs": [
    {
     "name": "stdout",
     "output_type": "stream",
     "text": [
      "27\n"
     ]
    }
   ],
   "source": [
    "def func(x):\n",
    "    #write your code here\n",
    "    cube=lambda a:a**3\n",
    "    print(cube(x))\n",
    "func(3)"
   ]
  },
  {
   "cell_type": "markdown",
   "metadata": {},
   "source": [
    "# Global and Local Variables"
   ]
  },
  {
   "cell_type": "markdown",
   "metadata": {},
   "source": [
    "### Check the output of the following code to understand the Global and local variables."
   ]
  },
  {
   "cell_type": "code",
   "execution_count": 108,
   "metadata": {},
   "outputs": [
    {
     "name": "stdout",
     "output_type": "stream",
     "text": [
      "Python "
     ]
    }
   ],
   "source": [
    "# This function uses global variable s \n",
    "def f():\n",
    "    print(s, end=\" \")\n",
    "\n",
    "# Global scope \n",
    "s = \"Python\"\n",
    "f()"
   ]
  },
  {
   "cell_type": "code",
   "execution_count": 109,
   "metadata": {},
   "outputs": [
    {
     "name": "stdout",
     "output_type": "stream",
     "text": [
      "I hate Python\n"
     ]
    }
   ],
   "source": [
    "# This function has a variable with name same as s. \n",
    "def f():  \n",
    "    s = \"I hate\"\n",
    "    print(s, end=\" \")\n",
    "# Global scope \n",
    "s = \"Python\" \n",
    "f()\n",
    "print(s)"
   ]
  },
  {
   "cell_type": "code",
   "execution_count": 111,
   "metadata": {},
   "outputs": [
    {
     "name": "stdout",
     "output_type": "stream",
     "text": [
      "Python\n",
      "Python\n",
      "Python\n"
     ]
    }
   ],
   "source": [
    "def f():\n",
    "    print(s)\n",
    "    # This program will NOT show error, if we comment below line.\n",
    "    #s = \"Me too.\"\n",
    "    print(s)\n",
    "\n",
    "# Global scope\n",
    "s= \"Python\"\n",
    "f()\n",
    "print(s)"
   ]
  },
  {
   "cell_type": "code",
   "execution_count": 112,
   "metadata": {},
   "outputs": [
    {
     "name": "stdout",
     "output_type": "stream",
     "text": [
      "Python\n",
      "Python\n",
      "Python\n"
     ]
    }
   ],
   "source": [
    "def f(): \n",
    "    global s\n",
    "    print (s) \n",
    "    s = \"Python\"\n",
    "    print (s)  \n",
    "\n",
    "# Global Scope \n",
    "s = \"Python\"\n",
    "f()\n",
    "print(s)"
   ]
  },
  {
   "cell_type": "markdown",
   "metadata": {},
   "source": [
    "# Recursive function"
   ]
  },
  {
   "cell_type": "code",
   "execution_count": 113,
   "metadata": {},
   "outputs": [
    {
     "name": "stdout",
     "output_type": "stream",
     "text": [
      "15\n"
     ]
    }
   ],
   "source": [
    "def sum(n):\n",
    "    if(n==1):\n",
    "        return 1\n",
    "    return n+sum(n-1)\n",
    "\n",
    "print(sum(5))\n",
    "    "
   ]
  },
  {
   "cell_type": "markdown",
   "metadata": {},
   "source": [
    "# Optional Questions"
   ]
  },
  {
   "cell_type": "markdown",
   "metadata": {},
   "source": [
    "### Write a program to design the pow function using recursion."
   ]
  },
  {
   "cell_type": "code",
   "execution_count": 5,
   "metadata": {},
   "outputs": [
    {
     "name": "stdout",
     "output_type": "stream",
     "text": [
      "32\n"
     ]
    }
   ],
   "source": [
    "#Function Definition\n",
    "def pow(a,b):\n",
    "    if(b==1):\n",
    "        return a\n",
    "    #Complete the code here\n",
    "    return a*pow(a,b-1)\n",
    "\n",
    "#Function Calling\n",
    "print(pow(2,5))"
   ]
  },
  {
   "cell_type": "markdown",
   "metadata": {},
   "source": [
    "## 2’s complement of a number is obtained by scanning it from right to left and complementing all the bits after the first appearance of a 1. Thus 2’s complement of 11100 is 00100. \n",
    "### Write a Python program to find the 2’s complement of a binary."
   ]
  },
  {
   "cell_type": "code",
   "execution_count": null,
   "metadata": {},
   "outputs": [],
   "source": []
  },
  {
   "cell_type": "markdown",
   "metadata": {},
   "source": [
    "### Write a program to calculate the sum of digits using recursion."
   ]
  },
  {
   "cell_type": "code",
   "execution_count": 7,
   "metadata": {},
   "outputs": [
    {
     "name": "stdout",
     "output_type": "stream",
     "text": [
      "3\n"
     ]
    }
   ],
   "source": [
    "def sum(n):\n",
    "    if n==1:\n",
    "        return 1\n",
    "    else:\n",
    "         return (n)+sum(n-1)\n",
    "print(sum(2))\n",
    "    "
   ]
  },
  {
   "cell_type": "markdown",
   "metadata": {},
   "source": [
    "### Write a program to calculate the hexa-decimal of decimal number using recursion."
   ]
  },
  {
   "cell_type": "code",
   "execution_count": null,
   "metadata": {},
   "outputs": [],
   "source": [
    "#recursive Function\n",
    "def hexa(number):\n",
    "    \n",
    "\n",
    "#Calling function\n",
    "print(\"Hexa Decimal\")\n",
    "hexa(18)\n",
    "print(\"\\nHexa Decimal\")\n",
    "hexa(65)"
   ]
  }
 ],
 "metadata": {
  "kernelspec": {
   "display_name": "Python 3",
   "language": "python",
   "name": "python3"
  },
  "language_info": {
   "codemirror_mode": {
    "name": "ipython",
    "version": 3
   },
   "file_extension": ".py",
   "mimetype": "text/x-python",
   "name": "python",
   "nbconvert_exporter": "python",
   "pygments_lexer": "ipython3",
   "version": "3.6.5"
  }
 },
 "nbformat": 4,
 "nbformat_minor": 2
}
